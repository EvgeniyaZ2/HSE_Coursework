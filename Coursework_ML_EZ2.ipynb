{
 "cells": [
  {
   "cell_type": "code",
   "execution_count": 1,
   "metadata": {},
   "outputs": [],
   "source": [
    "import json\n",
    "import pandas as pd\n",
    "import numpy as np\n",
    "\n",
    "from sklearn.preprocessing import StandardScaler \n",
    "from sklearn.model_selection import train_test_split, cross_validate\n",
    "from sklearn import metrics\n",
    "from sklearn.metrics import confusion_matrix\n",
    "from sklearn.metrics import classification_report\n",
    "\n",
    "from sklearn.linear_model import LogisticRegression\n",
    "from sklearn.neighbors import KNeighborsClassifier\n",
    "from sklearn.svm import SVC\n",
    "from sklearn.tree import DecisionTreeClassifier\n",
    "from sklearn.ensemble import RandomForestClassifier\n",
    "from sklearn.ensemble import BaggingClassifier\n",
    "\n",
    "from sklearn.ensemble import VotingClassifier\n",
    "from xgboost import XGBClassifier\n",
    "from lightgbm import LGBMClassifier\n",
    "from catboost import CatBoostClassifier"
   ]
  },
  {
   "cell_type": "code",
   "execution_count": 2,
   "metadata": {
    "scrolled": true
   },
   "outputs": [
    {
     "data": {
      "text/html": [
       "<div>\n",
       "<style scoped>\n",
       "    .dataframe tbody tr th:only-of-type {\n",
       "        vertical-align: middle;\n",
       "    }\n",
       "\n",
       "    .dataframe tbody tr th {\n",
       "        vertical-align: top;\n",
       "    }\n",
       "\n",
       "    .dataframe thead th {\n",
       "        text-align: right;\n",
       "    }\n",
       "</style>\n",
       "<table border=\"1\" class=\"dataframe\">\n",
       "  <thead>\n",
       "    <tr style=\"text-align: right;\">\n",
       "      <th></th>\n",
       "      <th>01</th>\n",
       "      <th>0kpd2_general</th>\n",
       "      <th>10</th>\n",
       "      <th>URL</th>\n",
       "      <th>deadline_pay</th>\n",
       "      <th>diff_cr_and_cont</th>\n",
       "      <th>duration_2</th>\n",
       "      <th>gosob_z</th>\n",
       "      <th>h_0</th>\n",
       "      <th>h_1</th>\n",
       "      <th>...</th>\n",
       "      <th>unit_Литр;^кубический дециметр</th>\n",
       "      <th>unit_Штука</th>\n",
       "      <th>w_day_123</th>\n",
       "      <th>w_day_4</th>\n",
       "      <th>w_day_5</th>\n",
       "      <th>weekend</th>\n",
       "      <th>Закупка до 300 000 руб. (п.4 ст.93 Закона №44-ФЗ)</th>\n",
       "      <th>Закупка до 600 000 руб. (п.4 ч.1 ст.93 Закона №44-ФЗ)</th>\n",
       "      <th>Закупка до 600 000 руб. (п.5 ч.1 ст.93 Закона №44-ФЗ)</th>\n",
       "      <th>Закупка_general</th>\n",
       "    </tr>\n",
       "  </thead>\n",
       "  <tbody>\n",
       "    <tr>\n",
       "      <th>0</th>\n",
       "      <td>0.0</td>\n",
       "      <td>0.0</td>\n",
       "      <td>2.0</td>\n",
       "      <td>1000343</td>\n",
       "      <td>30</td>\n",
       "      <td>2</td>\n",
       "      <td>1.0</td>\n",
       "      <td>1</td>\n",
       "      <td>0.0</td>\n",
       "      <td>0.0</td>\n",
       "      <td>...</td>\n",
       "      <td>0.0</td>\n",
       "      <td>0.0</td>\n",
       "      <td>1.0</td>\n",
       "      <td>0.0</td>\n",
       "      <td>0.0</td>\n",
       "      <td>0.0</td>\n",
       "      <td>1.0</td>\n",
       "      <td>0.0</td>\n",
       "      <td>0.0</td>\n",
       "      <td>0.0</td>\n",
       "    </tr>\n",
       "    <tr>\n",
       "      <th>1</th>\n",
       "      <td>0.0</td>\n",
       "      <td>0.0</td>\n",
       "      <td>1.0</td>\n",
       "      <td>1000429</td>\n",
       "      <td>30</td>\n",
       "      <td>3</td>\n",
       "      <td>1.0</td>\n",
       "      <td>0</td>\n",
       "      <td>0.0</td>\n",
       "      <td>0.0</td>\n",
       "      <td>...</td>\n",
       "      <td>0.0</td>\n",
       "      <td>0.0</td>\n",
       "      <td>1.0</td>\n",
       "      <td>0.0</td>\n",
       "      <td>0.0</td>\n",
       "      <td>0.0</td>\n",
       "      <td>1.0</td>\n",
       "      <td>0.0</td>\n",
       "      <td>0.0</td>\n",
       "      <td>0.0</td>\n",
       "    </tr>\n",
       "    <tr>\n",
       "      <th>2</th>\n",
       "      <td>0.0</td>\n",
       "      <td>0.0</td>\n",
       "      <td>3.0</td>\n",
       "      <td>1000450</td>\n",
       "      <td>15</td>\n",
       "      <td>3</td>\n",
       "      <td>1.0</td>\n",
       "      <td>0</td>\n",
       "      <td>0.0</td>\n",
       "      <td>0.0</td>\n",
       "      <td>...</td>\n",
       "      <td>0.0</td>\n",
       "      <td>50.0</td>\n",
       "      <td>1.0</td>\n",
       "      <td>0.0</td>\n",
       "      <td>0.0</td>\n",
       "      <td>0.0</td>\n",
       "      <td>1.0</td>\n",
       "      <td>0.0</td>\n",
       "      <td>0.0</td>\n",
       "      <td>0.0</td>\n",
       "    </tr>\n",
       "    <tr>\n",
       "      <th>3</th>\n",
       "      <td>0.0</td>\n",
       "      <td>1.0</td>\n",
       "      <td>1.0</td>\n",
       "      <td>1000520</td>\n",
       "      <td>0</td>\n",
       "      <td>1</td>\n",
       "      <td>0.0</td>\n",
       "      <td>0</td>\n",
       "      <td>0.0</td>\n",
       "      <td>0.0</td>\n",
       "      <td>...</td>\n",
       "      <td>0.0</td>\n",
       "      <td>130.0</td>\n",
       "      <td>1.0</td>\n",
       "      <td>0.0</td>\n",
       "      <td>0.0</td>\n",
       "      <td>0.0</td>\n",
       "      <td>1.0</td>\n",
       "      <td>0.0</td>\n",
       "      <td>0.0</td>\n",
       "      <td>0.0</td>\n",
       "    </tr>\n",
       "    <tr>\n",
       "      <th>4</th>\n",
       "      <td>0.0</td>\n",
       "      <td>0.0</td>\n",
       "      <td>1.0</td>\n",
       "      <td>1000653</td>\n",
       "      <td>0</td>\n",
       "      <td>1</td>\n",
       "      <td>1.0</td>\n",
       "      <td>0</td>\n",
       "      <td>0.0</td>\n",
       "      <td>0.0</td>\n",
       "      <td>...</td>\n",
       "      <td>0.0</td>\n",
       "      <td>100.0</td>\n",
       "      <td>1.0</td>\n",
       "      <td>0.0</td>\n",
       "      <td>0.0</td>\n",
       "      <td>0.0</td>\n",
       "      <td>1.0</td>\n",
       "      <td>0.0</td>\n",
       "      <td>0.0</td>\n",
       "      <td>0.0</td>\n",
       "    </tr>\n",
       "    <tr>\n",
       "      <th>...</th>\n",
       "      <td>...</td>\n",
       "      <td>...</td>\n",
       "      <td>...</td>\n",
       "      <td>...</td>\n",
       "      <td>...</td>\n",
       "      <td>...</td>\n",
       "      <td>...</td>\n",
       "      <td>...</td>\n",
       "      <td>...</td>\n",
       "      <td>...</td>\n",
       "      <td>...</td>\n",
       "      <td>...</td>\n",
       "      <td>...</td>\n",
       "      <td>...</td>\n",
       "      <td>...</td>\n",
       "      <td>...</td>\n",
       "      <td>...</td>\n",
       "      <td>...</td>\n",
       "      <td>...</td>\n",
       "      <td>...</td>\n",
       "      <td>...</td>\n",
       "    </tr>\n",
       "    <tr>\n",
       "      <th>9967</th>\n",
       "      <td>3.0</td>\n",
       "      <td>0.0</td>\n",
       "      <td>0.0</td>\n",
       "      <td>999573/</td>\n",
       "      <td>0</td>\n",
       "      <td>1</td>\n",
       "      <td>1.0</td>\n",
       "      <td>0</td>\n",
       "      <td>0.0</td>\n",
       "      <td>0.0</td>\n",
       "      <td>...</td>\n",
       "      <td>0.0</td>\n",
       "      <td>0.0</td>\n",
       "      <td>1.0</td>\n",
       "      <td>0.0</td>\n",
       "      <td>0.0</td>\n",
       "      <td>0.0</td>\n",
       "      <td>1.0</td>\n",
       "      <td>0.0</td>\n",
       "      <td>0.0</td>\n",
       "      <td>0.0</td>\n",
       "    </tr>\n",
       "    <tr>\n",
       "      <th>9968</th>\n",
       "      <td>1.0</td>\n",
       "      <td>0.0</td>\n",
       "      <td>5.0</td>\n",
       "      <td>999726/</td>\n",
       "      <td>0</td>\n",
       "      <td>3</td>\n",
       "      <td>1.0</td>\n",
       "      <td>0</td>\n",
       "      <td>0.0</td>\n",
       "      <td>0.0</td>\n",
       "      <td>...</td>\n",
       "      <td>0.0</td>\n",
       "      <td>6.0</td>\n",
       "      <td>1.0</td>\n",
       "      <td>0.0</td>\n",
       "      <td>0.0</td>\n",
       "      <td>0.0</td>\n",
       "      <td>1.0</td>\n",
       "      <td>0.0</td>\n",
       "      <td>0.0</td>\n",
       "      <td>0.0</td>\n",
       "    </tr>\n",
       "    <tr>\n",
       "      <th>9969</th>\n",
       "      <td>0.0</td>\n",
       "      <td>0.0</td>\n",
       "      <td>1.0</td>\n",
       "      <td>999819/</td>\n",
       "      <td>0</td>\n",
       "      <td>1</td>\n",
       "      <td>1.0</td>\n",
       "      <td>0</td>\n",
       "      <td>0.0</td>\n",
       "      <td>0.0</td>\n",
       "      <td>...</td>\n",
       "      <td>0.0</td>\n",
       "      <td>0.0</td>\n",
       "      <td>1.0</td>\n",
       "      <td>0.0</td>\n",
       "      <td>0.0</td>\n",
       "      <td>0.0</td>\n",
       "      <td>1.0</td>\n",
       "      <td>0.0</td>\n",
       "      <td>0.0</td>\n",
       "      <td>0.0</td>\n",
       "    </tr>\n",
       "    <tr>\n",
       "      <th>9970</th>\n",
       "      <td>0.0</td>\n",
       "      <td>0.0</td>\n",
       "      <td>3.0</td>\n",
       "      <td>999837/</td>\n",
       "      <td>0</td>\n",
       "      <td>3</td>\n",
       "      <td>1.0</td>\n",
       "      <td>0</td>\n",
       "      <td>0.0</td>\n",
       "      <td>0.0</td>\n",
       "      <td>...</td>\n",
       "      <td>0.0</td>\n",
       "      <td>2880.0</td>\n",
       "      <td>1.0</td>\n",
       "      <td>0.0</td>\n",
       "      <td>0.0</td>\n",
       "      <td>0.0</td>\n",
       "      <td>0.0</td>\n",
       "      <td>0.0</td>\n",
       "      <td>1.0</td>\n",
       "      <td>0.0</td>\n",
       "    </tr>\n",
       "    <tr>\n",
       "      <th>9971</th>\n",
       "      <td>0.0</td>\n",
       "      <td>0.0</td>\n",
       "      <td>1.0</td>\n",
       "      <td>999949/</td>\n",
       "      <td>30</td>\n",
       "      <td>1</td>\n",
       "      <td>1.0</td>\n",
       "      <td>1</td>\n",
       "      <td>0.0</td>\n",
       "      <td>0.0</td>\n",
       "      <td>...</td>\n",
       "      <td>0.0</td>\n",
       "      <td>0.0</td>\n",
       "      <td>1.0</td>\n",
       "      <td>0.0</td>\n",
       "      <td>0.0</td>\n",
       "      <td>0.0</td>\n",
       "      <td>1.0</td>\n",
       "      <td>0.0</td>\n",
       "      <td>0.0</td>\n",
       "      <td>0.0</td>\n",
       "    </tr>\n",
       "  </tbody>\n",
       "</table>\n",
       "<p>9966 rows × 62 columns</p>\n",
       "</div>"
      ],
      "text/plain": [
       "       01  0kpd2_general   10      URL  deadline_pay  diff_cr_and_cont  \\\n",
       "0     0.0            0.0  2.0  1000343            30                 2   \n",
       "1     0.0            0.0  1.0  1000429            30                 3   \n",
       "2     0.0            0.0  3.0  1000450            15                 3   \n",
       "3     0.0            1.0  1.0  1000520             0                 1   \n",
       "4     0.0            0.0  1.0  1000653             0                 1   \n",
       "...   ...            ...  ...      ...           ...               ...   \n",
       "9967  3.0            0.0  0.0  999573/             0                 1   \n",
       "9968  1.0            0.0  5.0  999726/             0                 3   \n",
       "9969  0.0            0.0  1.0  999819/             0                 1   \n",
       "9970  0.0            0.0  3.0  999837/             0                 3   \n",
       "9971  0.0            0.0  1.0  999949/            30                 1   \n",
       "\n",
       "      duration_2  gosob_z  h_0  h_1  ...  unit_Литр;^кубический дециметр  \\\n",
       "0            1.0        1  0.0  0.0  ...                             0.0   \n",
       "1            1.0        0  0.0  0.0  ...                             0.0   \n",
       "2            1.0        0  0.0  0.0  ...                             0.0   \n",
       "3            0.0        0  0.0  0.0  ...                             0.0   \n",
       "4            1.0        0  0.0  0.0  ...                             0.0   \n",
       "...          ...      ...  ...  ...  ...                             ...   \n",
       "9967         1.0        0  0.0  0.0  ...                             0.0   \n",
       "9968         1.0        0  0.0  0.0  ...                             0.0   \n",
       "9969         1.0        0  0.0  0.0  ...                             0.0   \n",
       "9970         1.0        0  0.0  0.0  ...                             0.0   \n",
       "9971         1.0        1  0.0  0.0  ...                             0.0   \n",
       "\n",
       "      unit_Штука  w_day_123  w_day_4  w_day_5  weekend  \\\n",
       "0            0.0        1.0      0.0      0.0      0.0   \n",
       "1            0.0        1.0      0.0      0.0      0.0   \n",
       "2           50.0        1.0      0.0      0.0      0.0   \n",
       "3          130.0        1.0      0.0      0.0      0.0   \n",
       "4          100.0        1.0      0.0      0.0      0.0   \n",
       "...          ...        ...      ...      ...      ...   \n",
       "9967         0.0        1.0      0.0      0.0      0.0   \n",
       "9968         6.0        1.0      0.0      0.0      0.0   \n",
       "9969         0.0        1.0      0.0      0.0      0.0   \n",
       "9970      2880.0        1.0      0.0      0.0      0.0   \n",
       "9971         0.0        1.0      0.0      0.0      0.0   \n",
       "\n",
       "      Закупка до 300 000 руб. (п.4 ст.93 Закона №44-ФЗ)  \\\n",
       "0                                                   1.0   \n",
       "1                                                   1.0   \n",
       "2                                                   1.0   \n",
       "3                                                   1.0   \n",
       "4                                                   1.0   \n",
       "...                                                 ...   \n",
       "9967                                                1.0   \n",
       "9968                                                1.0   \n",
       "9969                                                1.0   \n",
       "9970                                                0.0   \n",
       "9971                                                1.0   \n",
       "\n",
       "      Закупка до 600 000 руб. (п.4 ч.1 ст.93 Закона №44-ФЗ)  \\\n",
       "0                                                   0.0       \n",
       "1                                                   0.0       \n",
       "2                                                   0.0       \n",
       "3                                                   0.0       \n",
       "4                                                   0.0       \n",
       "...                                                 ...       \n",
       "9967                                                0.0       \n",
       "9968                                                0.0       \n",
       "9969                                                0.0       \n",
       "9970                                                0.0       \n",
       "9971                                                0.0       \n",
       "\n",
       "      Закупка до 600 000 руб. (п.5 ч.1 ст.93 Закона №44-ФЗ)  Закупка_general  \n",
       "0                                                   0.0                  0.0  \n",
       "1                                                   0.0                  0.0  \n",
       "2                                                   0.0                  0.0  \n",
       "3                                                   0.0                  0.0  \n",
       "4                                                   0.0                  0.0  \n",
       "...                                                 ...                  ...  \n",
       "9967                                                0.0                  0.0  \n",
       "9968                                                0.0                  0.0  \n",
       "9969                                                0.0                  0.0  \n",
       "9970                                                1.0                  0.0  \n",
       "9971                                                0.0                  0.0  \n",
       "\n",
       "[9966 rows x 62 columns]"
      ]
     },
     "execution_count": 2,
     "metadata": {},
     "output_type": "execute_result"
    }
   ],
   "source": [
    "with open('Coursework_data', 'r', encoding='utf-8') as f:\n",
    "    data = json.loads(f.read())   \n",
    "data = pd.DataFrame(data)    \n",
    "data"
   ]
  },
  {
   "cell_type": "code",
   "execution_count": 3,
   "metadata": {},
   "outputs": [
    {
     "data": {
      "text/plain": [
       "0    8332\n",
       "1    1634\n",
       "Name: status, dtype: int64"
      ]
     },
     "execution_count": 3,
     "metadata": {},
     "output_type": "execute_result"
    }
   ],
   "source": [
    "data['status'].value_counts()"
   ]
  },
  {
   "cell_type": "markdown",
   "metadata": {},
   "source": [
    "Неудачных закупок 8332, это 83,6% - бейзлайн для доли правильных ответов!"
   ]
  },
  {
   "cell_type": "markdown",
   "metadata": {},
   "source": [
    "Для заказчика наиболее важна метрика точность для 1-го класса, так что будем ориентироваться на нее при выборе аглгоритма в первую очередь."
   ]
  },
  {
   "cell_type": "code",
   "execution_count": 4,
   "metadata": {},
   "outputs": [],
   "source": [
    "y = data['status']\n",
    "X = data.drop(columns=['URL', 'status'])"
   ]
  },
  {
   "cell_type": "code",
   "execution_count": 5,
   "metadata": {},
   "outputs": [],
   "source": [
    "train_data, val_data, train_labels, val_labels = train_test_split(X, y, stratify=y, test_size=0.3)\n",
    "\n",
    "# test_data, val_data, test_labels, val_labels = train_test_split(val_data, val_labels, test_size=0.5, stratify=test_labels)"
   ]
  },
  {
   "cell_type": "code",
   "execution_count": 6,
   "metadata": {},
   "outputs": [],
   "source": [
    "scaler = StandardScaler()\n",
    "train_data = scaler.fit_transform(train_data)\n",
    "val_data = scaler.transform(val_data)\n",
    "# test_data = scaler.transform(test_data)"
   ]
  },
  {
   "cell_type": "code",
   "execution_count": 7,
   "metadata": {},
   "outputs": [
    {
     "data": {
      "text/plain": [
       "(6976, 60)"
      ]
     },
     "execution_count": 7,
     "metadata": {},
     "output_type": "execute_result"
    }
   ],
   "source": [
    "train_data.shape"
   ]
  },
  {
   "cell_type": "code",
   "execution_count": 8,
   "metadata": {},
   "outputs": [
    {
     "data": {
      "text/plain": [
       "(2990, 60)"
      ]
     },
     "execution_count": 8,
     "metadata": {},
     "output_type": "execute_result"
    }
   ],
   "source": [
    "val_data.shape"
   ]
  },
  {
   "cell_type": "code",
   "execution_count": 9,
   "metadata": {},
   "outputs": [
    {
     "data": {
      "text/plain": [
       "0    5832\n",
       "1    1144\n",
       "Name: status, dtype: int64"
      ]
     },
     "execution_count": 9,
     "metadata": {},
     "output_type": "execute_result"
    }
   ],
   "source": [
    "train_labels.value_counts()\n",
    "# val_labels.value_counts()"
   ]
  },
  {
   "cell_type": "markdown",
   "metadata": {},
   "source": [
    "### Функция для отрисовки красивой confusion_matrix"
   ]
  },
  {
   "cell_type": "code",
   "execution_count": 49,
   "metadata": {},
   "outputs": [
    {
     "name": "stdout",
     "output_type": "stream",
     "text": [
      "Populating the interactive namespace from numpy and matplotlib\n"
     ]
    }
   ],
   "source": [
    "import matplotlib.pyplot as plt\n",
    "\n",
    "%pylab inline"
   ]
  },
  {
   "cell_type": "code",
   "execution_count": 50,
   "metadata": {},
   "outputs": [],
   "source": [
    "import itertools\n",
    "from sklearn.metrics import confusion_matrix\n",
    "\n",
    "def plot_confusion_matrix(cm, classes,\n",
    "                          normalize=False,\n",
    "                          title='Confusion matrix',\n",
    "                          cmap=plt.cm.Blues):\n",
    " \n",
    "    plt.imshow(cm, interpolation='nearest', cmap=cmap)\n",
    "    plt.title(title)\n",
    "    plt.colorbar()\n",
    "    tick_marks = np.arange(len(classes))\n",
    "    plt.xticks(tick_marks, classes, rotation=45)\n",
    "    plt.yticks(tick_marks, classes)\n",
    " \n",
    "    fmt = '.2f' if normalize else 'd'\n",
    "    thresh = cm.max() / 2.\n",
    "    for i, j in itertools.product(range(cm.shape[0]), range(cm.shape[1])):\n",
    "        plt.text(j, i, format(cm[i, j], fmt),\n",
    "                 horizontalalignment=\"center\",\n",
    "                 color=\"white\" if cm[i, j] > thresh else \"black\")\n",
    " \n",
    "    plt.tight_layout()\n",
    "    plt.ylabel('True label')\n",
    "    plt.xlabel('Predicted label')"
   ]
  },
  {
   "cell_type": "markdown",
   "metadata": {},
   "source": [
    "## Логистическая регрессия"
   ]
  },
  {
   "cell_type": "code",
   "execution_count": 15,
   "metadata": {},
   "outputs": [
    {
     "name": "stdout",
     "output_type": "stream",
     "text": [
      "log_reg_test_accuracy:  0.7518619506834685\n",
      "log_reg_test_precision:  0.37485533556196593\n",
      "log_reg_test_recall:  0.7701064889297479\n"
     ]
    }
   ],
   "source": [
    "model = LogisticRegression(solver='newton-cg', class_weight='balanced', n_jobs=-1)\n",
    "log_reg_scoring = cross_validate(model, train_data, train_labels, scoring = ['accuracy', 'precision','recall'], cv = 5)\n",
    "\n",
    "print('log_reg_test_accuracy: ', log_reg_scoring['test_accuracy'].mean())\n",
    "print('log_reg_test_precision: ', log_reg_scoring['test_precision'].mean())\n",
    "print('log_reg_test_recall: ', log_reg_scoring['test_recall'].mean())"
   ]
  },
  {
   "cell_type": "code",
   "execution_count": 16,
   "metadata": {},
   "outputs": [
    {
     "name": "stdout",
     "output_type": "stream",
     "text": [
      "              precision    recall  f1-score   support\n",
      "\n",
      "           0       0.94      0.74      0.83      2500\n",
      "           1       0.36      0.76      0.49       490\n",
      "\n",
      "    accuracy                           0.74      2990\n",
      "   macro avg       0.65      0.75      0.66      2990\n",
      "weighted avg       0.85      0.74      0.77      2990\n",
      "\n"
     ]
    }
   ],
   "source": [
    "model_LR = LogisticRegression(solver='newton-cg', class_weight='balanced', n_jobs=-1)\n",
    "model_LR.fit(train_data, train_labels)\n",
    "predicted_LR = model_LR.predict(val_data)\n",
    "print(classification_report(val_labels, predicted_LR))"
   ]
  },
  {
   "cell_type": "code",
   "execution_count": 17,
   "metadata": {},
   "outputs": [
    {
     "data": {
      "image/png": "[encoded data removed]",
      "text/plain": [
       "<Figure size 432x288 with 2 Axes>"
      ]
     },
     "metadata": {
      "needs_background": "light"
     },
     "output_type": "display_data"
    }
   ],
   "source": [
    "plot_confusion_matrix(confusion_matrix(val_labels, predicted_LR), classes=['0','1'],\n",
    "                        title='LogisticRegression')"
   ]
  },
  {
   "cell_type": "markdown",
   "metadata": {},
   "source": [
    "## K-ближайших соседей"
   ]
  },
  {
   "cell_type": "code",
   "execution_count": 18,
   "metadata": {},
   "outputs": [
    {
     "name": "stdout",
     "output_type": "stream",
     "text": [
      "KN_test_accuracy:  0.8562197163426483\n",
      "KN_test_precision:  0.5875697907878397\n",
      "KN_test_recall:  0.4134796598483107\n"
     ]
    }
   ],
   "source": [
    "model = KNeighborsClassifier(weights='distance')\n",
    "KN_scoring = cross_validate(model, train_data, train_labels, scoring = ['accuracy', 'precision','recall'], cv = 5)\n",
    "\n",
    "print('KN_test_accuracy: ', KN_scoring['test_accuracy'].mean())\n",
    "print('KN_test_precision: ', KN_scoring['test_precision'].mean())\n",
    "print('KN_test_recall: ', KN_scoring['test_recall'].mean())"
   ]
  },
  {
   "cell_type": "code",
   "execution_count": 19,
   "metadata": {},
   "outputs": [
    {
     "name": "stdout",
     "output_type": "stream",
     "text": [
      "              precision    recall  f1-score   support\n",
      "\n",
      "           0       0.89      0.95      0.92      2500\n",
      "           1       0.60      0.42      0.50       490\n",
      "\n",
      "    accuracy                           0.86      2990\n",
      "   macro avg       0.75      0.69      0.71      2990\n",
      "weighted avg       0.85      0.86      0.85      2990\n",
      "\n"
     ]
    }
   ],
   "source": [
    "model_KN = KNeighborsClassifier(weights='distance')\n",
    "model_KN.fit(train_data, train_labels)\n",
    "predicted_KN = model_KN.predict(val_data)\n",
    "print(classification_report(val_labels, predicted_KN))"
   ]
  },
  {
   "cell_type": "code",
   "execution_count": 20,
   "metadata": {},
   "outputs": [
    {
     "data": {
      "image/png": "[encoded data removed]",
      "text/plain": [
       "<Figure size 432x288 with 2 Axes>"
      ]
     },
     "metadata": {
      "needs_background": "light"
     },
     "output_type": "display_data"
    }
   ],
   "source": [
    "plot_confusion_matrix(confusion_matrix(val_labels, predicted_KN), classes=['0','1'],\n",
    "                     title= 'KNeighborsClassifier')"
   ]
  },
  {
   "cell_type": "code",
   "execution_count": 21,
   "metadata": {},
   "outputs": [
    {
     "name": "stdout",
     "output_type": "stream",
     "text": [
      "              precision    recall  f1-score   support\n",
      "\n",
      "           0       0.88      0.96      0.92      2500\n",
      "           1       0.65      0.36      0.46       490\n",
      "\n",
      "    accuracy                           0.86      2990\n",
      "   macro avg       0.77      0.66      0.69      2990\n",
      "weighted avg       0.85      0.86      0.85      2990\n",
      "\n"
     ]
    }
   ],
   "source": [
    "# для увеличения точности повысим порог вероятности для отнесения объекта к классу 1\n",
    "threshold = 0.6\n",
    "\n",
    "predicted_proba = model_KN.predict_proba(val_data)\n",
    "predicted_KN_6 = (predicted_proba[:,1] >= threshold).astype('int')\n",
    "\n",
    "print(classification_report(val_labels, predicted_KN_6))"
   ]
  },
  {
   "cell_type": "code",
   "execution_count": 22,
   "metadata": {},
   "outputs": [
    {
     "data": {
      "image/png": "[encoded data removed]",
      "text/plain": [
       "<Figure size 432x288 with 2 Axes>"
      ]
     },
     "metadata": {
      "needs_background": "light"
     },
     "output_type": "display_data"
    }
   ],
   "source": [
    "plot_confusion_matrix(confusion_matrix(val_labels, predicted_KN_6), classes=['0','1'],\n",
    "                     title= 'KNeighborsClassifier,  threshold = 0.6')"
   ]
  },
  {
   "cell_type": "code",
   "execution_count": 23,
   "metadata": {},
   "outputs": [
    {
     "name": "stdout",
     "output_type": "stream",
     "text": [
      "              precision    recall  f1-score   support\n",
      "\n",
      "           0       0.87      0.97      0.92      2500\n",
      "           1       0.69      0.28      0.40       490\n",
      "\n",
      "    accuracy                           0.86      2990\n",
      "   macro avg       0.78      0.63      0.66      2990\n",
      "weighted avg       0.84      0.86      0.84      2990\n",
      "\n"
     ]
    }
   ],
   "source": [
    "threshold = 0.7\n",
    "\n",
    "predicted_proba = model_KN.predict_proba(val_data)\n",
    "predicted_KN_7 = (predicted_proba[:,1] >= threshold).astype('int')\n",
    "\n",
    "print(classification_report(val_labels, predicted_KN_7))"
   ]
  },
  {
   "cell_type": "code",
   "execution_count": 24,
   "metadata": {},
   "outputs": [
    {
     "data": {
      "image/png": "[encoded data removed]",
      "text/plain": [
       "<Figure size 432x288 with 2 Axes>"
      ]
     },
     "metadata": {
      "needs_background": "light"
     },
     "output_type": "display_data"
    }
   ],
   "source": [
    "plot_confusion_matrix(confusion_matrix(val_labels, predicted_KN_7), classes=['0','1'],\n",
    "                     title= 'KNeighborsClassifier,  threshold = 0.7')"
   ]
  },
  {
   "cell_type": "code",
   "execution_count": 25,
   "metadata": {},
   "outputs": [
    {
     "name": "stdout",
     "output_type": "stream",
     "text": [
      "              precision    recall  f1-score   support\n",
      "\n",
      "           0       0.87      0.98      0.92      2500\n",
      "           1       0.73      0.22      0.34       490\n",
      "\n",
      "    accuracy                           0.86      2990\n",
      "   macro avg       0.80      0.60      0.63      2990\n",
      "weighted avg       0.84      0.86      0.83      2990\n",
      "\n"
     ]
    }
   ],
   "source": [
    "threshold = 0.8\n",
    "\n",
    "predicted_proba = model_KN.predict_proba(val_data)\n",
    "predicted_KN_8 = (predicted_proba[:,1] >= threshold).astype('int')\n",
    "\n",
    "print(classification_report(val_labels, predicted_KN_8))"
   ]
  },
  {
   "cell_type": "code",
   "execution_count": 26,
   "metadata": {},
   "outputs": [
    {
     "name": "stdout",
     "output_type": "stream",
     "text": [
      "              precision    recall  f1-score   support\n",
      "\n",
      "           0       0.86      0.99      0.92      2500\n",
      "           1       0.82      0.16      0.27       490\n",
      "\n",
      "    accuracy                           0.86      2990\n",
      "   macro avg       0.84      0.58      0.60      2990\n",
      "weighted avg       0.85      0.86      0.81      2990\n",
      "\n"
     ]
    }
   ],
   "source": [
    "threshold = 0.9\n",
    "\n",
    "predicted_proba = model_KN.predict_proba(val_data)\n",
    "predicted_KN_9 = (predicted_proba[:,1] >= threshold).astype('int')\n",
    "\n",
    "print(classification_report(val_labels, predicted_KN_9))"
   ]
  },
  {
   "cell_type": "markdown",
   "metadata": {},
   "source": [
    "## Метод опорных векторов"
   ]
  },
  {
   "cell_type": "code",
   "execution_count": 28,
   "metadata": {},
   "outputs": [
    {
     "name": "stdout",
     "output_type": "stream",
     "text": [
      "SVC_test_accuracy:  0.7892763759230161\n",
      "SVC_test_precision:  0.4195615809380816\n",
      "SVC_test_recall:  0.7430131004366812\n"
     ]
    }
   ],
   "source": [
    "model = SVC(class_weight='balanced')\n",
    "SVC_scoring = cross_validate(model, train_data, train_labels, scoring = ['accuracy', 'precision', 'recall'], cv = 5)\n",
    "print('SVC_test_accuracy: ', SVC_scoring['test_accuracy'].mean())\n",
    "print('SVC_test_precision: ', SVC_scoring['test_precision'].mean())\n",
    "print('SVC_test_recall: ', SVC_scoring['test_recall'].mean())"
   ]
  },
  {
   "cell_type": "code",
   "execution_count": 29,
   "metadata": {},
   "outputs": [
    {
     "name": "stdout",
     "output_type": "stream",
     "text": [
      "              precision    recall  f1-score   support\n",
      "\n",
      "           0       0.93      0.79      0.86      2500\n",
      "           1       0.40      0.72      0.52       490\n",
      "\n",
      "    accuracy                           0.78      2990\n",
      "   macro avg       0.67      0.75      0.69      2990\n",
      "weighted avg       0.85      0.78      0.80      2990\n",
      "\n"
     ]
    }
   ],
   "source": [
    "model_SVC = SVC(class_weight='balanced')\n",
    "model_SVC.fit(train_data, train_labels)\n",
    "predicted_SVC = model_SVC.predict(val_data)\n",
    "print(classification_report(val_labels, predicted_SVC))"
   ]
  },
  {
   "cell_type": "code",
   "execution_count": 30,
   "metadata": {},
   "outputs": [
    {
     "data": {
      "image/png": "[encoded data removed]",
      "text/plain": [
       "<Figure size 432x288 with 2 Axes>"
      ]
     },
     "metadata": {
      "needs_background": "light"
     },
     "output_type": "display_data"
    }
   ],
   "source": [
    "plot_confusion_matrix(confusion_matrix(val_labels, predicted_SVC), classes=['0','1'], title= 'SVC')"
   ]
  },
  {
   "cell_type": "markdown",
   "metadata": {},
   "source": [
    "## Деревья решений"
   ]
  },
  {
   "cell_type": "code",
   "execution_count": 31,
   "metadata": {},
   "outputs": [
    {
     "name": "stdout",
     "output_type": "stream",
     "text": [
      "DT_test_accuracy:  0.8089160016842797\n",
      "DT_test_precision:  0.41651105737526495\n",
      "DT_test_recall:  0.41170612119819194\n"
     ]
    }
   ],
   "source": [
    "model = DecisionTreeClassifier(class_weight='balanced')\n",
    "DT_scoring = cross_validate(model, train_data, train_labels, scoring = ['accuracy', 'precision', 'recall'], cv = 5)\n",
    "\n",
    "print('DT_test_accuracy: ', DT_scoring['test_accuracy'].mean())\n",
    "print('DT_test_precision: ', DT_scoring['test_precision'].mean())\n",
    "print('DT_test_recall: ', DT_scoring['test_recall'].mean())"
   ]
  },
  {
   "cell_type": "code",
   "execution_count": 32,
   "metadata": {},
   "outputs": [
    {
     "name": "stdout",
     "output_type": "stream",
     "text": [
      "              precision    recall  f1-score   support\n",
      "\n",
      "           0       0.88      0.88      0.88      2500\n",
      "           1       0.41      0.41      0.41       490\n",
      "\n",
      "    accuracy                           0.81      2990\n",
      "   macro avg       0.65      0.65      0.65      2990\n",
      "weighted avg       0.81      0.81      0.81      2990\n",
      "\n"
     ]
    }
   ],
   "source": [
    "model_DT = DecisionTreeClassifier(class_weight='balanced')\n",
    "model_DT.fit(train_data, train_labels)\n",
    "predicted_DT = model_DT.predict(val_data)\n",
    "print(classification_report(val_labels, predicted_DT))"
   ]
  },
  {
   "cell_type": "code",
   "execution_count": 33,
   "metadata": {},
   "outputs": [
    {
     "data": {
      "image/png": "[encoded data removed]",
      "text/plain": [
       "<Figure size 432x288 with 2 Axes>"
      ]
     },
     "metadata": {
      "needs_background": "light"
     },
     "output_type": "display_data"
    }
   ],
   "source": [
    "plot_confusion_matrix(confusion_matrix(val_labels, predicted_DT), classes=['0','1'],\n",
    "                     title = 'DecisionTreeClassifier')"
   ]
  },
  {
   "cell_type": "markdown",
   "metadata": {},
   "source": [
    "## Случайный лес"
   ]
  },
  {
   "cell_type": "code",
   "execution_count": 34,
   "metadata": {},
   "outputs": [
    {
     "name": "stdout",
     "output_type": "stream",
     "text": [
      "RL_test_accuracy:  0.8669713775148657\n",
      "RL_test_precision:  0.7161886792452831\n",
      "RL_test_recall:  0.3129433846625297\n"
     ]
    }
   ],
   "source": [
    "model = RandomForestClassifier(class_weight='balanced', max_features='log2')\n",
    "RL_scoring = cross_validate(model, train_data, train_labels, scoring = ['accuracy', 'precision','recall'], cv = 5)\n",
    "print('RL_test_accuracy: ', RL_scoring['test_accuracy'].mean())\n",
    "print('RL_test_precision: ', RL_scoring['test_precision'].mean())\n",
    "print('RL_test_recall: ', RL_scoring['test_recall'].mean())"
   ]
  },
  {
   "cell_type": "code",
   "execution_count": 35,
   "metadata": {},
   "outputs": [
    {
     "name": "stdout",
     "output_type": "stream",
     "text": [
      "RL_2_test_accuracy:  0.8663974900124266\n",
      "RL_2_test_precision:  0.7065211878330689\n",
      "RL_2_test_recall:  0.3146824484792768\n"
     ]
    }
   ],
   "source": [
    "model = RandomForestClassifier(max_features='log2')\n",
    "RL_2_scoring = cross_validate(model, train_data, train_labels, scoring = ['accuracy', 'precision','recall'], cv = 5)\n",
    "print('RL_2_test_accuracy: ', RL_2_scoring['test_accuracy'].mean())\n",
    "print('RL_2_test_precision: ', RL_2_scoring['test_precision'].mean())\n",
    "print('RL_2_test_recall: ', RL_2_scoring['test_recall'].mean())"
   ]
  },
  {
   "cell_type": "code",
   "execution_count": 36,
   "metadata": {},
   "outputs": [
    {
     "name": "stdout",
     "output_type": "stream",
     "text": [
      "              precision    recall  f1-score   support\n",
      "\n",
      "           0       0.88      0.97      0.92      2500\n",
      "           1       0.69      0.30      0.41       490\n",
      "\n",
      "    accuracy                           0.86      2990\n",
      "   macro avg       0.78      0.63      0.67      2990\n",
      "weighted avg       0.85      0.86      0.84      2990\n",
      "\n"
     ]
    }
   ],
   "source": [
    "model_RF = RandomForestClassifier(class_weight='balanced', max_features='log2')\n",
    "# model_RF = RandomForestClassifier(class_weight='balanced')\n",
    "model_RF.fit(train_data, train_labels)\n",
    "predicted_RF = model_RF.predict(val_data)\n",
    "# predicted_proba_RF = model_RF.predict_proba(val_data)\n",
    "print(classification_report(val_labels, predicted_RF))"
   ]
  },
  {
   "cell_type": "code",
   "execution_count": 37,
   "metadata": {},
   "outputs": [
    {
     "data": {
      "image/png": "[encoded data removed]",
      "text/plain": [
       "<Figure size 432x288 with 2 Axes>"
      ]
     },
     "metadata": {
      "needs_background": "light"
     },
     "output_type": "display_data"
    }
   ],
   "source": [
    "plot_confusion_matrix(confusion_matrix(val_labels, predicted_RF), classes=['0','1'],\n",
    "                     title = 'RandomForestClassifier')"
   ]
  },
  {
   "cell_type": "code",
   "execution_count": 38,
   "metadata": {},
   "outputs": [
    {
     "name": "stdout",
     "output_type": "stream",
     "text": [
      "              precision    recall  f1-score   support\n",
      "\n",
      "           0       0.86      0.99      0.92      2500\n",
      "           1       0.78      0.21      0.33       490\n",
      "\n",
      "    accuracy                           0.86      2990\n",
      "   macro avg       0.82      0.60      0.63      2990\n",
      "weighted avg       0.85      0.86      0.83      2990\n",
      "\n"
     ]
    }
   ],
   "source": [
    "threshold = 0.6\n",
    "\n",
    "predicted_proba = model_RF.predict_proba(val_data)\n",
    "predicted_RF_6 = (predicted_proba[:,1] >= threshold).astype('int')\n",
    "\n",
    "print(classification_report(val_labels, predicted_RF_6))"
   ]
  },
  {
   "cell_type": "code",
   "execution_count": 39,
   "metadata": {},
   "outputs": [
    {
     "data": {
      "image/png": "[encoded data removed]",
      "text/plain": [
       "<Figure size 432x288 with 2 Axes>"
      ]
     },
     "metadata": {
      "needs_background": "light"
     },
     "output_type": "display_data"
    }
   ],
   "source": [
    "plot_confusion_matrix(confusion_matrix(val_labels, predicted_RF_6), classes=['0','1'],\n",
    "                     title = 'RandomForestClassifier, threshold = 0.6')"
   ]
  },
  {
   "cell_type": "code",
   "execution_count": 40,
   "metadata": {},
   "outputs": [
    {
     "name": "stdout",
     "output_type": "stream",
     "text": [
      "              precision    recall  f1-score   support\n",
      "\n",
      "           0       0.85      0.99      0.92      2500\n",
      "           1       0.80      0.14      0.23       490\n",
      "\n",
      "    accuracy                           0.85      2990\n",
      "   macro avg       0.83      0.56      0.58      2990\n",
      "weighted avg       0.85      0.85      0.81      2990\n",
      "\n"
     ]
    }
   ],
   "source": [
    "threshold = 0.7\n",
    "\n",
    "predicted_proba = model_RF.predict_proba(val_data)\n",
    "predicted_RF_7 = (predicted_proba[:,1] >= threshold).astype('int')\n",
    "\n",
    "print(classification_report(val_labels, predicted_RF_7))"
   ]
  },
  {
   "cell_type": "code",
   "execution_count": 41,
   "metadata": {},
   "outputs": [
    {
     "data": {
      "image/png": "[encoded data removed]",
      "text/plain": [
       "<Figure size 432x288 with 2 Axes>"
      ]
     },
     "metadata": {
      "needs_background": "light"
     },
     "output_type": "display_data"
    }
   ],
   "source": [
    "plot_confusion_matrix(confusion_matrix(val_labels, predicted_RF_7), classes=['0','1'],\n",
    "                     title = 'RandomForestClassifier, threshold = 0.7')"
   ]
  },
  {
   "cell_type": "code",
   "execution_count": 42,
   "metadata": {},
   "outputs": [
    {
     "name": "stdout",
     "output_type": "stream",
     "text": [
      "              precision    recall  f1-score   support\n",
      "\n",
      "           0       0.85      1.00      0.92      2500\n",
      "           1       0.82      0.08      0.14       490\n",
      "\n",
      "    accuracy                           0.85      2990\n",
      "   macro avg       0.83      0.54      0.53      2990\n",
      "weighted avg       0.84      0.85      0.79      2990\n",
      "\n"
     ]
    }
   ],
   "source": [
    "threshold = 0.8\n",
    "\n",
    "predicted_proba = model_RF.predict_proba(val_data)\n",
    "predicted_RF_8 = (predicted_proba[:,1] >= threshold).astype('int')\n",
    "\n",
    "print(classification_report(val_labels, predicted_RF_8))"
   ]
  },
  {
   "cell_type": "code",
   "execution_count": 43,
   "metadata": {},
   "outputs": [
    {
     "data": {
      "image/png": "[encoded data removed]",
      "text/plain": [
       "<Figure size 432x288 with 2 Axes>"
      ]
     },
     "metadata": {
      "needs_background": "light"
     },
     "output_type": "display_data"
    }
   ],
   "source": [
    "plot_confusion_matrix(confusion_matrix(val_labels, predicted_RF_8), classes=['0','1'],\n",
    "                     title = 'RandomForestClassifier, threshold = 0.8')"
   ]
  },
  {
   "cell_type": "code",
   "execution_count": 44,
   "metadata": {},
   "outputs": [
    {
     "name": "stdout",
     "output_type": "stream",
     "text": [
      "              precision    recall  f1-score   support\n",
      "\n",
      "           0       0.84      1.00      0.91      2500\n",
      "           1       0.80      0.03      0.06       490\n",
      "\n",
      "    accuracy                           0.84      2990\n",
      "   macro avg       0.82      0.52      0.49      2990\n",
      "weighted avg       0.83      0.84      0.77      2990\n",
      "\n"
     ]
    }
   ],
   "source": [
    "threshold = 0.9\n",
    "\n",
    "predicted_proba = model_RF.predict_proba(val_data)\n",
    "predicted_RF_9 = (predicted_proba[:,1] >= threshold).astype('int')\n",
    "\n",
    "print(classification_report(val_labels, predicted_RF_9))"
   ]
  },
  {
   "cell_type": "code",
   "execution_count": 45,
   "metadata": {},
   "outputs": [
    {
     "data": {
      "image/png": "[encoded data removed]",
      "text/plain": [
       "<Figure size 432x288 with 2 Axes>"
      ]
     },
     "metadata": {
      "needs_background": "light"
     },
     "output_type": "display_data"
    }
   ],
   "source": [
    "plot_confusion_matrix(confusion_matrix(val_labels, predicted_RF_9), classes=['0','1'],\n",
    "                     title = 'RandomForestClassifier, threshold = 0.9')"
   ]
  },
  {
   "cell_type": "markdown",
   "metadata": {},
   "source": [
    "## Бэггинг над деревьями"
   ]
  },
  {
   "cell_type": "code",
   "execution_count": 46,
   "metadata": {},
   "outputs": [
    {
     "name": "stdout",
     "output_type": "stream",
     "text": [
      "Bagging_test_accuracy:  0.8586569923283113\n",
      "Bagging_test_precision:  0.6317185068303447\n",
      "Bagging_test_recall:  0.333053704129319\n"
     ]
    }
   ],
   "source": [
    "dt = DecisionTreeClassifier(class_weight='balanced')\n",
    "model = BaggingClassifier(dt, n_estimators=70, n_jobs=-1)\n",
    "Bagging_scoring = cross_validate(model, train_data, train_labels, scoring = ['accuracy', 'precision','recall'], cv = 5)\n",
    "print('Bagging_test_accuracy: ', Bagging_scoring['test_accuracy'].mean())\n",
    "print('Bagging_test_precision: ', Bagging_scoring['test_precision'].mean())\n",
    "print('Bagging_test_recall: ', Bagging_scoring['test_recall'].mean())"
   ]
  },
  {
   "cell_type": "code",
   "execution_count": 47,
   "metadata": {},
   "outputs": [
    {
     "name": "stdout",
     "output_type": "stream",
     "text": [
      "              precision    recall  f1-score   support\n",
      "\n",
      "           0       0.88      0.97      0.92      2500\n",
      "           1       0.65      0.32      0.43       490\n",
      "\n",
      "    accuracy                           0.86      2990\n",
      "   macro avg       0.77      0.65      0.68      2990\n",
      "weighted avg       0.84      0.86      0.84      2990\n",
      "\n"
     ]
    }
   ],
   "source": [
    "dt = DecisionTreeClassifier(class_weight='balanced')\n",
    "model_Bag_70 = BaggingClassifier(dt, n_estimators=70, n_jobs=-1)\n",
    "model_Bag_70.fit(train_data, train_labels)\n",
    "predicted_Bag_70 = model_Bag_70.predict(val_data)\n",
    "print(classification_report(val_labels, predicted_Bag_70))"
   ]
  },
  {
   "cell_type": "code",
   "execution_count": 51,
   "metadata": {},
   "outputs": [
    {
     "data": {
      "image/png": "[encoded data removed]",
      "text/plain": [
       "<Figure size 432x288 with 2 Axes>"
      ]
     },
     "metadata": {
      "needs_background": "light"
     },
     "output_type": "display_data"
    }
   ],
   "source": [
    "plot_confusion_matrix(confusion_matrix(val_labels, predicted_Bag_70), classes=['0','1'],\n",
    "                     title = 'BaggingClassifier_70')"
   ]
  },
  {
   "cell_type": "markdown",
   "metadata": {},
   "source": [
    "## Бустинги"
   ]
  },
  {
   "cell_type": "code",
   "execution_count": 53,
   "metadata": {},
   "outputs": [
    {
     "name": "stderr",
     "output_type": "stream",
     "text": [
      "C:\\Users\\evgen\\anaconda3\\lib\\site-packages\\xgboost\\sklearn.py:892: UserWarning: The use of label encoder in XGBClassifier is deprecated and will be removed in a future release. To remove this warning, do the following: 1) Pass option use_label_encoder=False when constructing XGBClassifier object; and 2) Encode your labels (y) as integers starting with 0, i.e. 0, 1, 2, ..., [num_class - 1].\n",
      "  warnings.warn(label_encoder_deprecation_msg, UserWarning)\n"
     ]
    },
    {
     "name": "stdout",
     "output_type": "stream",
     "text": [
      "[19:24:44] WARNING: C:/Users/Administrator/workspace/xgboost-win64_release_1.3.0/src/learner.cc:1061: Starting in XGBoost 1.3.0, the default evaluation metric used with the objective 'binary:logistic' was changed from 'error' to 'logloss'. Explicitly set eval_metric if you'd like to restore the old behavior.\n",
      "[19:24:44] WARNING: C:/Users/Administrator/workspace/xgboost-win64_release_1.3.0/src/learner.cc:1061: Starting in XGBoost 1.3.0, the default evaluation metric used with the objective 'binary:logistic' was changed from 'error' to 'logloss'. Explicitly set eval_metric if you'd like to restore the old behavior.\n",
      "[19:24:45] WARNING: C:/Users/Administrator/workspace/xgboost-win64_release_1.3.0/src/learner.cc:1061: Starting in XGBoost 1.3.0, the default evaluation metric used with the objective 'binary:logistic' was changed from 'error' to 'logloss'. Explicitly set eval_metric if you'd like to restore the old behavior.\n",
      "[19:24:45] WARNING: C:/Users/Administrator/workspace/xgboost-win64_release_1.3.0/src/learner.cc:1061: Starting in XGBoost 1.3.0, the default evaluation metric used with the objective 'binary:logistic' was changed from 'error' to 'logloss'. Explicitly set eval_metric if you'd like to restore the old behavior.\n",
      "[19:24:46] WARNING: C:/Users/Administrator/workspace/xgboost-win64_release_1.3.0/src/learner.cc:1061: Starting in XGBoost 1.3.0, the default evaluation metric used with the objective 'binary:logistic' was changed from 'error' to 'logloss'. Explicitly set eval_metric if you'd like to restore the old behavior.\n",
      "XGB_test_accuracy:  0.8520625237493711\n",
      "XGB_test_precision:  0.5742476439645567\n",
      "XGB_test_recall:  0.36973109629970125\n"
     ]
    }
   ],
   "source": [
    "model = XGBClassifier()\n",
    "XGB_scoring = cross_validate(model, train_data, train_labels,scoring = ['accuracy', 'precision','recall'], cv = 5)\n",
    "print('XGB_test_accuracy: ', XGB_scoring['test_accuracy'].mean())\n",
    "print('XGB_test_precision: ', XGB_scoring['test_precision'].mean())\n",
    "print('XGB_test_recall: ', XGB_scoring['test_recall'].mean())"
   ]
  },
  {
   "cell_type": "code",
   "execution_count": 54,
   "metadata": {},
   "outputs": [
    {
     "name": "stderr",
     "output_type": "stream",
     "text": [
      "C:\\Users\\evgen\\anaconda3\\lib\\site-packages\\xgboost\\sklearn.py:892: UserWarning: The use of label encoder in XGBClassifier is deprecated and will be removed in a future release. To remove this warning, do the following: 1) Pass option use_label_encoder=False when constructing XGBClassifier object; and 2) Encode your labels (y) as integers starting with 0, i.e. 0, 1, 2, ..., [num_class - 1].\n",
      "  warnings.warn(label_encoder_deprecation_msg, UserWarning)\n"
     ]
    },
    {
     "name": "stdout",
     "output_type": "stream",
     "text": [
      "[19:25:28] WARNING: C:/Users/Administrator/workspace/xgboost-win64_release_1.3.0/src/learner.cc:1061: Starting in XGBoost 1.3.0, the default evaluation metric used with the objective 'binary:logistic' was changed from 'error' to 'logloss'. Explicitly set eval_metric if you'd like to restore the old behavior.\n",
      "[19:25:29] WARNING: C:/Users/Administrator/workspace/xgboost-win64_release_1.3.0/src/learner.cc:1061: Starting in XGBoost 1.3.0, the default evaluation metric used with the objective 'binary:logistic' was changed from 'error' to 'logloss'. Explicitly set eval_metric if you'd like to restore the old behavior.\n",
      "[19:25:29] WARNING: C:/Users/Administrator/workspace/xgboost-win64_release_1.3.0/src/learner.cc:1061: Starting in XGBoost 1.3.0, the default evaluation metric used with the objective 'binary:logistic' was changed from 'error' to 'logloss'. Explicitly set eval_metric if you'd like to restore the old behavior.\n",
      "[19:25:29] WARNING: C:/Users/Administrator/workspace/xgboost-win64_release_1.3.0/src/learner.cc:1061: Starting in XGBoost 1.3.0, the default evaluation metric used with the objective 'binary:logistic' was changed from 'error' to 'logloss'. Explicitly set eval_metric if you'd like to restore the old behavior.\n",
      "[19:25:30] WARNING: C:/Users/Administrator/workspace/xgboost-win64_release_1.3.0/src/learner.cc:1061: Starting in XGBoost 1.3.0, the default evaluation metric used with the objective 'binary:logistic' was changed from 'error' to 'logloss'. Explicitly set eval_metric if you'd like to restore the old behavior.\n",
      "XGB_2_test_accuracy:  0.8312770742828974\n",
      "XGB_2_test_precision:  0.4875812289659553\n",
      "XGB_2_test_recall:  0.5681720677238948\n"
     ]
    }
   ],
   "source": [
    "model = XGBClassifier(scale_pos_weight=5)\n",
    "XGB_2_scoring = cross_validate(model, train_data, train_labels,scoring = ['accuracy', 'precision','recall'], cv = 5)\n",
    "print('XGB_2_test_accuracy: ', XGB_2_scoring['test_accuracy'].mean())\n",
    "print('XGB_2_test_precision: ', XGB_2_scoring['test_precision'].mean())\n",
    "print('XGB_2_test_recall: ', XGB_2_scoring['test_recall'].mean())"
   ]
  },
  {
   "cell_type": "code",
   "execution_count": 55,
   "metadata": {},
   "outputs": [
    {
     "name": "stdout",
     "output_type": "stream",
     "text": [
      "[19:25:50] WARNING: C:/Users/Administrator/workspace/xgboost-win64_release_1.3.0/src/learner.cc:1061: Starting in XGBoost 1.3.0, the default evaluation metric used with the objective 'binary:logistic' was changed from 'error' to 'logloss'. Explicitly set eval_metric if you'd like to restore the old behavior.\n",
      "              precision    recall  f1-score   support\n",
      "\n",
      "           0       0.88      0.95      0.91      2500\n",
      "           1       0.56      0.33      0.42       490\n",
      "\n",
      "    accuracy                           0.85      2990\n",
      "   macro avg       0.72      0.64      0.66      2990\n",
      "weighted avg       0.83      0.85      0.83      2990\n",
      "\n"
     ]
    }
   ],
   "source": [
    "model_XGB = XGBClassifier()\n",
    "model_XGB.fit(train_data, train_labels)\n",
    "predicted_XGB  = model_XGB.predict(val_data)\n",
    "print(classification_report(val_labels, predicted_XGB))"
   ]
  },
  {
   "cell_type": "code",
   "execution_count": 56,
   "metadata": {},
   "outputs": [
    {
     "data": {
      "image/png": "[encoded data removed]",
      "text/plain": [
       "<Figure size 432x288 with 2 Axes>"
      ]
     },
     "metadata": {
      "needs_background": "light"
     },
     "output_type": "display_data"
    }
   ],
   "source": [
    "plot_confusion_matrix(confusion_matrix(val_labels, predicted_XGB), classes=['0','1'],\n",
    "                     title = 'XGBClassifier')"
   ]
  },
  {
   "cell_type": "code",
   "execution_count": 57,
   "metadata": {},
   "outputs": [
    {
     "name": "stdout",
     "output_type": "stream",
     "text": [
      "LGBM_test_accuracy:  0.8567923714452969\n",
      "LGBM_test_precision:  0.6111573113321428\n",
      "LGBM_test_recall:  0.344369110549299\n"
     ]
    }
   ],
   "source": [
    "model = LGBMClassifier()\n",
    "LGBM_scoring = cross_validate(model, train_data, train_labels, scoring = ['accuracy', 'precision', 'recall'], cv = 5)\n",
    "print('LGBM_test_accuracy: ', LGBM_scoring['test_accuracy'].mean())\n",
    "print('LGBM_test_precision: ', LGBM_scoring['test_precision'].mean())\n",
    "print('LGBM_test_recall: ', LGBM_scoring['test_recall'].mean())"
   ]
  },
  {
   "cell_type": "code",
   "execution_count": 58,
   "metadata": {},
   "outputs": [
    {
     "name": "stdout",
     "output_type": "stream",
     "text": [
      "LGBM_2_test_accuracy:  0.8123540889998049\n",
      "LGBM_2_test_precision:  0.4525662805867324\n",
      "LGBM_2_test_recall:  0.6853022293725581\n"
     ]
    }
   ],
   "source": [
    "model = LGBMClassifier(scale_pos_weight=5)\n",
    "LGBM_2_scoring = cross_validate(model, train_data, train_labels, scoring = ['accuracy', 'precision', 'recall'], cv = 5)\n",
    "print('LGBM_2_test_accuracy: ', LGBM_2_scoring['test_accuracy'].mean())\n",
    "print('LGBM_2_test_precision: ', LGBM_2_scoring['test_precision'].mean())\n",
    "print('LGBM_2_test_recall: ', LGBM_2_scoring['test_recall'].mean())"
   ]
  },
  {
   "cell_type": "code",
   "execution_count": 59,
   "metadata": {},
   "outputs": [
    {
     "name": "stdout",
     "output_type": "stream",
     "text": [
      "              precision    recall  f1-score   support\n",
      "\n",
      "           0       0.89      0.96      0.92      2500\n",
      "           1       0.66      0.36      0.47       490\n",
      "\n",
      "    accuracy                           0.87      2990\n",
      "   macro avg       0.77      0.66      0.70      2990\n",
      "weighted avg       0.85      0.87      0.85      2990\n",
      "\n"
     ]
    }
   ],
   "source": [
    "model_LGBM = LGBMClassifier()\n",
    "model_LGBM.fit(train_data, train_labels)\n",
    "predicted_LGBM = model_LGBM.predict(val_data)\n",
    "print(classification_report(val_labels, predicted_LGBM))"
   ]
  },
  {
   "cell_type": "code",
   "execution_count": 60,
   "metadata": {},
   "outputs": [
    {
     "data": {
      "image/png": "[encoded data removed]",
      "text/plain": [
       "<Figure size 432x288 with 2 Axes>"
      ]
     },
     "metadata": {
      "needs_background": "light"
     },
     "output_type": "display_data"
    }
   ],
   "source": [
    "plot_confusion_matrix(confusion_matrix(val_labels, predicted_LGBM), classes=['0','1'],\n",
    "                     title = 'LGBMClassifier')"
   ]
  },
  {
   "cell_type": "code",
   "execution_count": 61,
   "metadata": {},
   "outputs": [
    {
     "name": "stdout",
     "output_type": "stream",
     "text": [
      "Cat_test_accuracy:  0.8626706103459962\n",
      "Cat_test_precision:  0.6557768746989102\n",
      "Cat_test_recall:  0.33999463724814216\n"
     ]
    }
   ],
   "source": [
    "model = CatBoostClassifier(silent=True)\n",
    "Cat_scoring = cross_validate(model, train_data, train_labels, scoring = ['accuracy', 'precision','recall'], cv = 5)\n",
    "print('Cat_test_accuracy: ', Cat_scoring['test_accuracy'].mean())\n",
    "print('Cat_test_precision: ', Cat_scoring['test_precision'].mean())\n",
    "print('Cat_test_recall: ', Cat_scoring['test_recall'].mean())"
   ]
  },
  {
   "cell_type": "code",
   "execution_count": 62,
   "metadata": {},
   "outputs": [
    {
     "name": "stdout",
     "output_type": "stream",
     "text": [
      "Cat_2_test_accuracy:  0.8176604943977159\n",
      "Cat_2_test_precision:  0.46306562142422775\n",
      "Cat_2_test_recall:  0.693193135677622\n"
     ]
    }
   ],
   "source": [
    "model = CatBoostClassifier(scale_pos_weight=5, silent=True)\n",
    "Cat_2_scoring = cross_validate(model, train_data, train_labels, scoring = ['accuracy', 'precision','recall'], cv = 5)\n",
    "print('Cat_2_test_accuracy: ', Cat_2_scoring['test_accuracy'].mean())\n",
    "print('Cat_2_test_precision: ', Cat_2_scoring['test_precision'].mean())\n",
    "print('Cat_2_test_recall: ', Cat_2_scoring['test_recall'].mean())"
   ]
  },
  {
   "cell_type": "code",
   "execution_count": 63,
   "metadata": {},
   "outputs": [
    {
     "name": "stdout",
     "output_type": "stream",
     "text": [
      "              precision    recall  f1-score   support\n",
      "\n",
      "           0       0.88      0.96      0.92      2500\n",
      "           1       0.66      0.35      0.46       490\n",
      "\n",
      "    accuracy                           0.86      2990\n",
      "   macro avg       0.77      0.66      0.69      2990\n",
      "weighted avg       0.85      0.86      0.85      2990\n",
      "\n"
     ]
    }
   ],
   "source": [
    "model_Cat = CatBoostClassifier(silent=True)\n",
    "model_Cat.fit(train_data, train_labels)\n",
    "predicted_Cat = model_Cat.predict(val_data)\n",
    "print(classification_report(val_labels, predicted_Cat))"
   ]
  },
  {
   "cell_type": "code",
   "execution_count": 64,
   "metadata": {},
   "outputs": [
    {
     "data": {
      "image/png": "[encoded data removed]",
      "text/plain": [
       "<Figure size 432x288 with 2 Axes>"
      ]
     },
     "metadata": {
      "needs_background": "light"
     },
     "output_type": "display_data"
    }
   ],
   "source": [
    "plot_confusion_matrix(confusion_matrix(val_labels, predicted_Cat), classes=['0','1'],\n",
    "                     title = 'CatBoostClassifier')"
   ]
  },
  {
   "cell_type": "code",
   "execution_count": null,
   "metadata": {},
   "outputs": [],
   "source": []
  },
  {
   "cell_type": "markdown",
   "metadata": {},
   "source": [
    "### Сравнение случайного леса и ансамбля"
   ]
  },
  {
   "cell_type": "code",
   "execution_count": 67,
   "metadata": {},
   "outputs": [],
   "source": [
    "# СЛУЧАЙНЫЙ ЛЕС\n",
    "\n",
    "precision = []\n",
    "recall = []\n",
    "# threshold = 0.6\n",
    "threshold = 0.7\n",
    "\n",
    "for i in range(10):\n",
    "    train_data, val_data, train_labels, val_labels = train_test_split(X, y, stratify=y, test_size=0.3)\n",
    "    scaler = StandardScaler()\n",
    "    train_data = scaler.fit_transform(train_data)\n",
    "    val_data = scaler.transform(val_data)\n",
    "    model_RF = RandomForestClassifier(class_weight='balanced', max_features='log2')\n",
    "    model_RF.fit(train_data, train_labels)\n",
    "    predicted_proba = model_RF.predict_proba(val_data)\n",
    "    predicted = (predicted_proba[:,1] >= threshold).astype('int')\n",
    "    score = [metrics.precision_score(val_labels, predicted), metrics.recall_score(val_labels, predicted)]\n",
    "    precision.append(score[0])\n",
    "    recall.append(score[1])"
   ]
  },
  {
   "cell_type": "code",
   "execution_count": 68,
   "metadata": {},
   "outputs": [
    {
     "name": "stdout",
     "output_type": "stream",
     "text": [
      "precision:  0.7669463529219146\n",
      "recall:  0.1346938775510204\n"
     ]
    }
   ],
   "source": [
    "import numpy as np\n",
    "precision = np.array(precision)\n",
    "print('precision: ', precision.mean())\n",
    "recall = np.array(recall)\n",
    "print('recall: ', recall.mean())\n",
    "\n",
    "# threshold = 0.6\n",
    "# precision:  0.7764920852684627\n",
    "# recall:  0.21571428571428575\n",
    "\n",
    "# threshold = 0.7\n",
    "# precision:  0.7669463529219146\n",
    "# recall:  0.1346938775510204"
   ]
  },
  {
   "cell_type": "code",
   "execution_count": 73,
   "metadata": {},
   "outputs": [],
   "source": [
    "# Для ансамбля отбираем алгоритмы, которые показывали точность на 1-м классе выше 0.5\n",
    "\n",
    "estimators = []\n",
    "\n",
    "model1 = KNeighborsClassifier(weights='distance')\n",
    "estimators.append(('KNeighbors', model1))\n",
    "model2 = RandomForestClassifier(class_weight='balanced', max_features='log2')\n",
    "estimators.append(('RandomForest', model2))\n",
    "dt = DecisionTreeClassifier(class_weight='balanced')\n",
    "model3 = BaggingClassifier(dt, n_estimators=70)\n",
    "estimators.append(('Bagging', model3))\n",
    "model4 = XGBClassifier()\n",
    "estimators.append(('XGB', model4))\n",
    "model5 = LGBMClassifier()\n",
    "estimators.append(('LGBM', model5))\n",
    "model6 = CatBoostClassifier(silent=True)\n",
    "estimators.append(('Cat', model6))\n",
    "\n",
    "ensemble = VotingClassifier(estimators, voting='soft')"
   ]
  },
  {
   "cell_type": "code",
   "execution_count": 74,
   "metadata": {},
   "outputs": [
    {
     "name": "stderr",
     "output_type": "stream",
     "text": [
      "C:\\Users\\evgen\\anaconda3\\lib\\site-packages\\xgboost\\sklearn.py:892: UserWarning: The use of label encoder in XGBClassifier is deprecated and will be removed in a future release. To remove this warning, do the following: 1) Pass option use_label_encoder=False when constructing XGBClassifier object; and 2) Encode your labels (y) as integers starting with 0, i.e. 0, 1, 2, ..., [num_class - 1].\n",
      "  warnings.warn(label_encoder_deprecation_msg, UserWarning)\n"
     ]
    },
    {
     "name": "stdout",
     "output_type": "stream",
     "text": [
      "[19:55:40] WARNING: C:/Users/Administrator/workspace/xgboost-win64_release_1.3.0/src/learner.cc:1061: Starting in XGBoost 1.3.0, the default evaluation metric used with the objective 'binary:logistic' was changed from 'error' to 'logloss'. Explicitly set eval_metric if you'd like to restore the old behavior.\n"
     ]
    },
    {
     "name": "stderr",
     "output_type": "stream",
     "text": [
      "C:\\Users\\evgen\\anaconda3\\lib\\site-packages\\xgboost\\sklearn.py:892: UserWarning: The use of label encoder in XGBClassifier is deprecated and will be removed in a future release. To remove this warning, do the following: 1) Pass option use_label_encoder=False when constructing XGBClassifier object; and 2) Encode your labels (y) as integers starting with 0, i.e. 0, 1, 2, ..., [num_class - 1].\n",
      "  warnings.warn(label_encoder_deprecation_msg, UserWarning)\n"
     ]
    },
    {
     "name": "stdout",
     "output_type": "stream",
     "text": [
      "[19:55:52] WARNING: C:/Users/Administrator/workspace/xgboost-win64_release_1.3.0/src/learner.cc:1061: Starting in XGBoost 1.3.0, the default evaluation metric used with the objective 'binary:logistic' was changed from 'error' to 'logloss'. Explicitly set eval_metric if you'd like to restore the old behavior.\n"
     ]
    },
    {
     "name": "stderr",
     "output_type": "stream",
     "text": [
      "C:\\Users\\evgen\\anaconda3\\lib\\site-packages\\xgboost\\sklearn.py:892: UserWarning: The use of label encoder in XGBClassifier is deprecated and will be removed in a future release. To remove this warning, do the following: 1) Pass option use_label_encoder=False when constructing XGBClassifier object; and 2) Encode your labels (y) as integers starting with 0, i.e. 0, 1, 2, ..., [num_class - 1].\n",
      "  warnings.warn(label_encoder_deprecation_msg, UserWarning)\n"
     ]
    },
    {
     "name": "stdout",
     "output_type": "stream",
     "text": [
      "[19:56:04] WARNING: C:/Users/Administrator/workspace/xgboost-win64_release_1.3.0/src/learner.cc:1061: Starting in XGBoost 1.3.0, the default evaluation metric used with the objective 'binary:logistic' was changed from 'error' to 'logloss'. Explicitly set eval_metric if you'd like to restore the old behavior.\n"
     ]
    },
    {
     "name": "stderr",
     "output_type": "stream",
     "text": [
      "C:\\Users\\evgen\\anaconda3\\lib\\site-packages\\xgboost\\sklearn.py:892: UserWarning: The use of label encoder in XGBClassifier is deprecated and will be removed in a future release. To remove this warning, do the following: 1) Pass option use_label_encoder=False when constructing XGBClassifier object; and 2) Encode your labels (y) as integers starting with 0, i.e. 0, 1, 2, ..., [num_class - 1].\n",
      "  warnings.warn(label_encoder_deprecation_msg, UserWarning)\n"
     ]
    },
    {
     "name": "stdout",
     "output_type": "stream",
     "text": [
      "[19:56:19] WARNING: C:/Users/Administrator/workspace/xgboost-win64_release_1.3.0/src/learner.cc:1061: Starting in XGBoost 1.3.0, the default evaluation metric used with the objective 'binary:logistic' was changed from 'error' to 'logloss'. Explicitly set eval_metric if you'd like to restore the old behavior.\n"
     ]
    },
    {
     "name": "stderr",
     "output_type": "stream",
     "text": [
      "C:\\Users\\evgen\\anaconda3\\lib\\site-packages\\xgboost\\sklearn.py:892: UserWarning: The use of label encoder in XGBClassifier is deprecated and will be removed in a future release. To remove this warning, do the following: 1) Pass option use_label_encoder=False when constructing XGBClassifier object; and 2) Encode your labels (y) as integers starting with 0, i.e. 0, 1, 2, ..., [num_class - 1].\n",
      "  warnings.warn(label_encoder_deprecation_msg, UserWarning)\n"
     ]
    },
    {
     "name": "stdout",
     "output_type": "stream",
     "text": [
      "[19:56:34] WARNING: C:/Users/Administrator/workspace/xgboost-win64_release_1.3.0/src/learner.cc:1061: Starting in XGBoost 1.3.0, the default evaluation metric used with the objective 'binary:logistic' was changed from 'error' to 'logloss'. Explicitly set eval_metric if you'd like to restore the old behavior.\n"
     ]
    },
    {
     "name": "stderr",
     "output_type": "stream",
     "text": [
      "C:\\Users\\evgen\\anaconda3\\lib\\site-packages\\xgboost\\sklearn.py:892: UserWarning: The use of label encoder in XGBClassifier is deprecated and will be removed in a future release. To remove this warning, do the following: 1) Pass option use_label_encoder=False when constructing XGBClassifier object; and 2) Encode your labels (y) as integers starting with 0, i.e. 0, 1, 2, ..., [num_class - 1].\n",
      "  warnings.warn(label_encoder_deprecation_msg, UserWarning)\n"
     ]
    },
    {
     "name": "stdout",
     "output_type": "stream",
     "text": [
      "[19:56:48] WARNING: C:/Users/Administrator/workspace/xgboost-win64_release_1.3.0/src/learner.cc:1061: Starting in XGBoost 1.3.0, the default evaluation metric used with the objective 'binary:logistic' was changed from 'error' to 'logloss'. Explicitly set eval_metric if you'd like to restore the old behavior.\n"
     ]
    },
    {
     "name": "stderr",
     "output_type": "stream",
     "text": [
      "C:\\Users\\evgen\\anaconda3\\lib\\site-packages\\xgboost\\sklearn.py:892: UserWarning: The use of label encoder in XGBClassifier is deprecated and will be removed in a future release. To remove this warning, do the following: 1) Pass option use_label_encoder=False when constructing XGBClassifier object; and 2) Encode your labels (y) as integers starting with 0, i.e. 0, 1, 2, ..., [num_class - 1].\n",
      "  warnings.warn(label_encoder_deprecation_msg, UserWarning)\n"
     ]
    },
    {
     "name": "stdout",
     "output_type": "stream",
     "text": [
      "[19:57:01] WARNING: C:/Users/Administrator/workspace/xgboost-win64_release_1.3.0/src/learner.cc:1061: Starting in XGBoost 1.3.0, the default evaluation metric used with the objective 'binary:logistic' was changed from 'error' to 'logloss'. Explicitly set eval_metric if you'd like to restore the old behavior.\n"
     ]
    },
    {
     "name": "stderr",
     "output_type": "stream",
     "text": [
      "C:\\Users\\evgen\\anaconda3\\lib\\site-packages\\xgboost\\sklearn.py:892: UserWarning: The use of label encoder in XGBClassifier is deprecated and will be removed in a future release. To remove this warning, do the following: 1) Pass option use_label_encoder=False when constructing XGBClassifier object; and 2) Encode your labels (y) as integers starting with 0, i.e. 0, 1, 2, ..., [num_class - 1].\n",
      "  warnings.warn(label_encoder_deprecation_msg, UserWarning)\n"
     ]
    },
    {
     "name": "stdout",
     "output_type": "stream",
     "text": [
      "[19:57:14] WARNING: C:/Users/Administrator/workspace/xgboost-win64_release_1.3.0/src/learner.cc:1061: Starting in XGBoost 1.3.0, the default evaluation metric used with the objective 'binary:logistic' was changed from 'error' to 'logloss'. Explicitly set eval_metric if you'd like to restore the old behavior.\n"
     ]
    },
    {
     "name": "stderr",
     "output_type": "stream",
     "text": [
      "C:\\Users\\evgen\\anaconda3\\lib\\site-packages\\xgboost\\sklearn.py:892: UserWarning: The use of label encoder in XGBClassifier is deprecated and will be removed in a future release. To remove this warning, do the following: 1) Pass option use_label_encoder=False when constructing XGBClassifier object; and 2) Encode your labels (y) as integers starting with 0, i.e. 0, 1, 2, ..., [num_class - 1].\n",
      "  warnings.warn(label_encoder_deprecation_msg, UserWarning)\n"
     ]
    },
    {
     "name": "stdout",
     "output_type": "stream",
     "text": [
      "[19:57:27] WARNING: C:/Users/Administrator/workspace/xgboost-win64_release_1.3.0/src/learner.cc:1061: Starting in XGBoost 1.3.0, the default evaluation metric used with the objective 'binary:logistic' was changed from 'error' to 'logloss'. Explicitly set eval_metric if you'd like to restore the old behavior.\n"
     ]
    },
    {
     "name": "stderr",
     "output_type": "stream",
     "text": [
      "C:\\Users\\evgen\\anaconda3\\lib\\site-packages\\xgboost\\sklearn.py:892: UserWarning: The use of label encoder in XGBClassifier is deprecated and will be removed in a future release. To remove this warning, do the following: 1) Pass option use_label_encoder=False when constructing XGBClassifier object; and 2) Encode your labels (y) as integers starting with 0, i.e. 0, 1, 2, ..., [num_class - 1].\n",
      "  warnings.warn(label_encoder_deprecation_msg, UserWarning)\n"
     ]
    },
    {
     "name": "stdout",
     "output_type": "stream",
     "text": [
      "[19:57:40] WARNING: C:/Users/Administrator/workspace/xgboost-win64_release_1.3.0/src/learner.cc:1061: Starting in XGBoost 1.3.0, the default evaluation metric used with the objective 'binary:logistic' was changed from 'error' to 'logloss'. Explicitly set eval_metric if you'd like to restore the old behavior.\n"
     ]
    }
   ],
   "source": [
    "precision_V = []\n",
    "recall_V = []\n",
    "# threshold = 0.6\n",
    "threshold = 0.7\n",
    "\n",
    "for i in range(10):\n",
    "    train_data, val_data, train_labels, val_labels = train_test_split(X, y, stratify=y, test_size=0.3)\n",
    "    scaler = StandardScaler()\n",
    "    train_data = scaler.fit_transform(train_data)\n",
    "    val_data = scaler.transform(val_data)\n",
    "    ensemble.fit(train_data, train_labels)\n",
    "    predicted_proba = ensemble.predict_proba(val_data)\n",
    "    predicted = (predicted_proba[:,1] >= threshold).astype('int')\n",
    "    score = [metrics.precision_score(val_labels, predicted), metrics.recall_score(val_labels, predicted)]\n",
    "    precision_V.append(score[0])\n",
    "    recall_V.append(score[1])"
   ]
  },
  {
   "cell_type": "code",
   "execution_count": 75,
   "metadata": {
    "scrolled": false
   },
   "outputs": [
    {
     "name": "stdout",
     "output_type": "stream",
     "text": [
      "precision_V:  0.7815879681451394\n",
      "recall_V:  0.1563265306122449\n"
     ]
    }
   ],
   "source": [
    "precision_V = np.array(precision_V)\n",
    "recall_V = np.array(recall_V)\n",
    "print('precision_V: ', precision_V.mean())\n",
    "print('recall_V: ', recall_V.mean())\n",
    "\n",
    "# threshold = 0.6\n",
    "# precision_V:  0.7339554650490128\n",
    "# recall_V:  0.2528571428571429\n",
    "\n",
    "# threshold = 0.7\n",
    "# precision_V:  0.7815879681451394\n",
    "# recall_V:  0.1563265306122449"
   ]
  },
  {
   "cell_type": "code",
   "execution_count": null,
   "metadata": {},
   "outputs": [],
   "source": []
  },
  {
   "cell_type": "code",
   "execution_count": 76,
   "metadata": {},
   "outputs": [],
   "source": [
    "estimators = []\n",
    "\n",
    "model1 = KNeighborsClassifier(weights='distance')\n",
    "estimators.append(('KNeighbors', model1))\n",
    "model2 = RandomForestClassifier(class_weight='balanced', max_features='log2')\n",
    "estimators.append(('RandomForest', model2))\n",
    "dt = DecisionTreeClassifier(class_weight='balanced')\n",
    "model3 = BaggingClassifier(dt, n_estimators=70)\n",
    "estimators.append(('Bagging', model3))\n",
    "model4 = XGBClassifier()\n",
    "estimators.append(('XGB', model4))\n",
    "model5 = LGBMClassifier()\n",
    "estimators.append(('LGBM', model5))\n",
    "model6 = CatBoostClassifier(silent=True)\n",
    "estimators.append(('Cat', model6))\n",
    "\n",
    "ensemble = VotingClassifier(estimators, voting='hard')"
   ]
  },
  {
   "cell_type": "code",
   "execution_count": 77,
   "metadata": {},
   "outputs": [
    {
     "name": "stderr",
     "output_type": "stream",
     "text": [
      "C:\\Users\\evgen\\anaconda3\\lib\\site-packages\\xgboost\\sklearn.py:892: UserWarning: The use of label encoder in XGBClassifier is deprecated and will be removed in a future release. To remove this warning, do the following: 1) Pass option use_label_encoder=False when constructing XGBClassifier object; and 2) Encode your labels (y) as integers starting with 0, i.e. 0, 1, 2, ..., [num_class - 1].\n",
      "  warnings.warn(label_encoder_deprecation_msg, UserWarning)\n"
     ]
    },
    {
     "name": "stdout",
     "output_type": "stream",
     "text": [
      "[20:01:54] WARNING: C:/Users/Administrator/workspace/xgboost-win64_release_1.3.0/src/learner.cc:1061: Starting in XGBoost 1.3.0, the default evaluation metric used with the objective 'binary:logistic' was changed from 'error' to 'logloss'. Explicitly set eval_metric if you'd like to restore the old behavior.\n"
     ]
    },
    {
     "name": "stderr",
     "output_type": "stream",
     "text": [
      "C:\\Users\\evgen\\anaconda3\\lib\\site-packages\\xgboost\\sklearn.py:892: UserWarning: The use of label encoder in XGBClassifier is deprecated and will be removed in a future release. To remove this warning, do the following: 1) Pass option use_label_encoder=False when constructing XGBClassifier object; and 2) Encode your labels (y) as integers starting with 0, i.e. 0, 1, 2, ..., [num_class - 1].\n",
      "  warnings.warn(label_encoder_deprecation_msg, UserWarning)\n"
     ]
    },
    {
     "name": "stdout",
     "output_type": "stream",
     "text": [
      "[20:02:04] WARNING: C:/Users/Administrator/workspace/xgboost-win64_release_1.3.0/src/learner.cc:1061: Starting in XGBoost 1.3.0, the default evaluation metric used with the objective 'binary:logistic' was changed from 'error' to 'logloss'. Explicitly set eval_metric if you'd like to restore the old behavior.\n"
     ]
    },
    {
     "name": "stderr",
     "output_type": "stream",
     "text": [
      "C:\\Users\\evgen\\anaconda3\\lib\\site-packages\\xgboost\\sklearn.py:892: UserWarning: The use of label encoder in XGBClassifier is deprecated and will be removed in a future release. To remove this warning, do the following: 1) Pass option use_label_encoder=False when constructing XGBClassifier object; and 2) Encode your labels (y) as integers starting with 0, i.e. 0, 1, 2, ..., [num_class - 1].\n",
      "  warnings.warn(label_encoder_deprecation_msg, UserWarning)\n"
     ]
    },
    {
     "name": "stdout",
     "output_type": "stream",
     "text": [
      "[20:02:15] WARNING: C:/Users/Administrator/workspace/xgboost-win64_release_1.3.0/src/learner.cc:1061: Starting in XGBoost 1.3.0, the default evaluation metric used with the objective 'binary:logistic' was changed from 'error' to 'logloss'. Explicitly set eval_metric if you'd like to restore the old behavior.\n"
     ]
    },
    {
     "name": "stderr",
     "output_type": "stream",
     "text": [
      "C:\\Users\\evgen\\anaconda3\\lib\\site-packages\\xgboost\\sklearn.py:892: UserWarning: The use of label encoder in XGBClassifier is deprecated and will be removed in a future release. To remove this warning, do the following: 1) Pass option use_label_encoder=False when constructing XGBClassifier object; and 2) Encode your labels (y) as integers starting with 0, i.e. 0, 1, 2, ..., [num_class - 1].\n",
      "  warnings.warn(label_encoder_deprecation_msg, UserWarning)\n"
     ]
    },
    {
     "name": "stdout",
     "output_type": "stream",
     "text": [
      "[20:02:25] WARNING: C:/Users/Administrator/workspace/xgboost-win64_release_1.3.0/src/learner.cc:1061: Starting in XGBoost 1.3.0, the default evaluation metric used with the objective 'binary:logistic' was changed from 'error' to 'logloss'. Explicitly set eval_metric if you'd like to restore the old behavior.\n"
     ]
    },
    {
     "name": "stderr",
     "output_type": "stream",
     "text": [
      "C:\\Users\\evgen\\anaconda3\\lib\\site-packages\\xgboost\\sklearn.py:892: UserWarning: The use of label encoder in XGBClassifier is deprecated and will be removed in a future release. To remove this warning, do the following: 1) Pass option use_label_encoder=False when constructing XGBClassifier object; and 2) Encode your labels (y) as integers starting with 0, i.e. 0, 1, 2, ..., [num_class - 1].\n",
      "  warnings.warn(label_encoder_deprecation_msg, UserWarning)\n"
     ]
    },
    {
     "name": "stdout",
     "output_type": "stream",
     "text": [
      "[20:02:35] WARNING: C:/Users/Administrator/workspace/xgboost-win64_release_1.3.0/src/learner.cc:1061: Starting in XGBoost 1.3.0, the default evaluation metric used with the objective 'binary:logistic' was changed from 'error' to 'logloss'. Explicitly set eval_metric if you'd like to restore the old behavior.\n"
     ]
    },
    {
     "name": "stderr",
     "output_type": "stream",
     "text": [
      "C:\\Users\\evgen\\anaconda3\\lib\\site-packages\\xgboost\\sklearn.py:892: UserWarning: The use of label encoder in XGBClassifier is deprecated and will be removed in a future release. To remove this warning, do the following: 1) Pass option use_label_encoder=False when constructing XGBClassifier object; and 2) Encode your labels (y) as integers starting with 0, i.e. 0, 1, 2, ..., [num_class - 1].\n",
      "  warnings.warn(label_encoder_deprecation_msg, UserWarning)\n"
     ]
    },
    {
     "name": "stdout",
     "output_type": "stream",
     "text": [
      "[20:02:47] WARNING: C:/Users/Administrator/workspace/xgboost-win64_release_1.3.0/src/learner.cc:1061: Starting in XGBoost 1.3.0, the default evaluation metric used with the objective 'binary:logistic' was changed from 'error' to 'logloss'. Explicitly set eval_metric if you'd like to restore the old behavior.\n"
     ]
    },
    {
     "name": "stderr",
     "output_type": "stream",
     "text": [
      "C:\\Users\\evgen\\anaconda3\\lib\\site-packages\\xgboost\\sklearn.py:892: UserWarning: The use of label encoder in XGBClassifier is deprecated and will be removed in a future release. To remove this warning, do the following: 1) Pass option use_label_encoder=False when constructing XGBClassifier object; and 2) Encode your labels (y) as integers starting with 0, i.e. 0, 1, 2, ..., [num_class - 1].\n",
      "  warnings.warn(label_encoder_deprecation_msg, UserWarning)\n"
     ]
    },
    {
     "name": "stdout",
     "output_type": "stream",
     "text": [
      "[20:02:58] WARNING: C:/Users/Administrator/workspace/xgboost-win64_release_1.3.0/src/learner.cc:1061: Starting in XGBoost 1.3.0, the default evaluation metric used with the objective 'binary:logistic' was changed from 'error' to 'logloss'. Explicitly set eval_metric if you'd like to restore the old behavior.\n"
     ]
    },
    {
     "name": "stderr",
     "output_type": "stream",
     "text": [
      "C:\\Users\\evgen\\anaconda3\\lib\\site-packages\\xgboost\\sklearn.py:892: UserWarning: The use of label encoder in XGBClassifier is deprecated and will be removed in a future release. To remove this warning, do the following: 1) Pass option use_label_encoder=False when constructing XGBClassifier object; and 2) Encode your labels (y) as integers starting with 0, i.e. 0, 1, 2, ..., [num_class - 1].\n",
      "  warnings.warn(label_encoder_deprecation_msg, UserWarning)\n"
     ]
    },
    {
     "name": "stdout",
     "output_type": "stream",
     "text": [
      "[20:03:10] WARNING: C:/Users/Administrator/workspace/xgboost-win64_release_1.3.0/src/learner.cc:1061: Starting in XGBoost 1.3.0, the default evaluation metric used with the objective 'binary:logistic' was changed from 'error' to 'logloss'. Explicitly set eval_metric if you'd like to restore the old behavior.\n"
     ]
    },
    {
     "name": "stderr",
     "output_type": "stream",
     "text": [
      "C:\\Users\\evgen\\anaconda3\\lib\\site-packages\\xgboost\\sklearn.py:892: UserWarning: The use of label encoder in XGBClassifier is deprecated and will be removed in a future release. To remove this warning, do the following: 1) Pass option use_label_encoder=False when constructing XGBClassifier object; and 2) Encode your labels (y) as integers starting with 0, i.e. 0, 1, 2, ..., [num_class - 1].\n",
      "  warnings.warn(label_encoder_deprecation_msg, UserWarning)\n"
     ]
    },
    {
     "name": "stdout",
     "output_type": "stream",
     "text": [
      "[20:03:23] WARNING: C:/Users/Administrator/workspace/xgboost-win64_release_1.3.0/src/learner.cc:1061: Starting in XGBoost 1.3.0, the default evaluation metric used with the objective 'binary:logistic' was changed from 'error' to 'logloss'. Explicitly set eval_metric if you'd like to restore the old behavior.\n"
     ]
    },
    {
     "name": "stderr",
     "output_type": "stream",
     "text": [
      "C:\\Users\\evgen\\anaconda3\\lib\\site-packages\\xgboost\\sklearn.py:892: UserWarning: The use of label encoder in XGBClassifier is deprecated and will be removed in a future release. To remove this warning, do the following: 1) Pass option use_label_encoder=False when constructing XGBClassifier object; and 2) Encode your labels (y) as integers starting with 0, i.e. 0, 1, 2, ..., [num_class - 1].\n",
      "  warnings.warn(label_encoder_deprecation_msg, UserWarning)\n"
     ]
    },
    {
     "name": "stdout",
     "output_type": "stream",
     "text": [
      "[20:03:36] WARNING: C:/Users/Administrator/workspace/xgboost-win64_release_1.3.0/src/learner.cc:1061: Starting in XGBoost 1.3.0, the default evaluation metric used with the objective 'binary:logistic' was changed from 'error' to 'logloss'. Explicitly set eval_metric if you'd like to restore the old behavior.\n"
     ]
    }
   ],
   "source": [
    "precision_V = []\n",
    "recall_V = []\n",
    "\n",
    "for i in range(10):\n",
    "    train_data, val_data, train_labels, val_labels = train_test_split(X, y, stratify=y, test_size=0.3)\n",
    "    scaler = StandardScaler()\n",
    "    train_data = scaler.fit_transform(train_data)\n",
    "    val_data = scaler.transform(val_data)\n",
    "    ensemble.fit(train_data, train_labels)\n",
    "    predicted = ensemble.predict(val_data)\n",
    "    score = [metrics.precision_score(val_labels, predicted), metrics.recall_score(val_labels, predicted)]\n",
    "    precision_V.append(score[0])\n",
    "    recall_V.append(score[1])"
   ]
  },
  {
   "cell_type": "code",
   "execution_count": 78,
   "metadata": {},
   "outputs": [
    {
     "name": "stdout",
     "output_type": "stream",
     "text": [
      "precision_V:  0.7132133002274316\n",
      "recall_V:  0.3136734693877551\n"
     ]
    }
   ],
   "source": [
    "precision_V = np.array(precision_V)\n",
    "recall_V = np.array(recall_V)\n",
    "print('precision_V: ', precision_V.mean())\n",
    "print('recall_V: ', recall_V.mean())\n",
    "\n",
    "# без threshold\n",
    "# precision_V:  0.7132133002274316\n",
    "# recall_V:  0.3136734693877551"
   ]
  },
  {
   "cell_type": "code",
   "execution_count": null,
   "metadata": {},
   "outputs": [],
   "source": []
  },
  {
   "cell_type": "code",
   "execution_count": 82,
   "metadata": {},
   "outputs": [],
   "source": [
    "# Для ансамбля отбираем алгоритмы, которые показывали точность на 1-м классе выше 0.6\n",
    "\n",
    "estimators = []\n",
    "\n",
    "# model1 = KNeighborsClassifier(weights='distance')\n",
    "# estimators.append(('KNeighbors', model1))\n",
    "model2 = RandomForestClassifier(class_weight='balanced', max_features='log2')\n",
    "estimators.append(('RandomForest', model2))\n",
    "dt = DecisionTreeClassifier(class_weight='balanced')\n",
    "model3 = BaggingClassifier(dt, n_estimators=70)\n",
    "estimators.append(('Bagging', model3))\n",
    "# model4 = XGBClassifier()\n",
    "# estimators.append(('XGB', model4))\n",
    "# model5 = LGBMClassifier()\n",
    "# estimators.append(('LGBM', model5))\n",
    "model6 = CatBoostClassifier(silent=True)\n",
    "estimators.append(('Cat', model6))\n",
    "\n",
    "ensemble = VotingClassifier(estimators, voting='soft')"
   ]
  },
  {
   "cell_type": "code",
   "execution_count": 83,
   "metadata": {},
   "outputs": [],
   "source": [
    "precision_V = []\n",
    "recall_V = []\n",
    "# threshold = 0.6\n",
    "threshold = 0.7\n",
    "\n",
    "for i in range(10):\n",
    "    train_data, val_data, train_labels, val_labels = train_test_split(X, y, stratify=y, test_size=0.3)\n",
    "    scaler = StandardScaler()\n",
    "    train_data = scaler.fit_transform(train_data)\n",
    "    val_data = scaler.transform(val_data)\n",
    "    ensemble.fit(train_data, train_labels)\n",
    "    predicted_proba = ensemble.predict_proba(val_data)\n",
    "    predicted = (predicted_proba[:,1] >= threshold).astype('int')\n",
    "    score = [metrics.precision_score(val_labels, predicted), metrics.recall_score(val_labels, predicted)]\n",
    "    precision_V.append(score[0])\n",
    "    recall_V.append(score[1])"
   ]
  },
  {
   "cell_type": "code",
   "execution_count": 84,
   "metadata": {},
   "outputs": [
    {
     "name": "stdout",
     "output_type": "stream",
     "text": [
      "precision_V:  0.7920597753934884\n",
      "recall_V:  0.13204081632653059\n"
     ]
    }
   ],
   "source": [
    "precision_V = np.array(precision_V)\n",
    "recall_V = np.array(recall_V)\n",
    "print('precision_V: ', precision_V.mean())\n",
    "print('recall_V: ', recall_V.mean())\n",
    "\n",
    "# threshold = 0.6\n",
    "# precision_V:  0.7580366810542423\n",
    "# recall_V:  0.22102040816326526\n",
    "\n",
    "# threshold = 0.7\n",
    "# precision_V:  0.7920597753934884\n",
    "# recall_V:  0.13204081632653059"
   ]
  },
  {
   "cell_type": "markdown",
   "metadata": {},
   "source": [
    "Точность для 1-го класса в 0.79 при полноте в 0.13 дает threshold = 0.7 и сочетание в ансамбле следующих алгоритмов: случайного леса, бэггинга и алгоритма CatBoost. Обучим этот ансамбль на всех данных для дальнейшей работы с новыми данными."
   ]
  },
  {
   "cell_type": "code",
   "execution_count": 85,
   "metadata": {},
   "outputs": [],
   "source": [
    "estimators = []\n",
    "\n",
    "model2 = RandomForestClassifier(class_weight='balanced', max_features='log2')\n",
    "estimators.append(('RandomForest', model2))\n",
    "dt = DecisionTreeClassifier(class_weight='balanced')\n",
    "model3 = BaggingClassifier(dt, n_estimators=70)\n",
    "estimators.append(('Bagging', model3))\n",
    "model6 = CatBoostClassifier(silent=True)\n",
    "estimators.append(('Cat', model6))\n",
    "\n",
    "ensemble = VotingClassifier(estimators, voting='soft')"
   ]
  },
  {
   "cell_type": "code",
   "execution_count": 86,
   "metadata": {},
   "outputs": [
    {
     "data": {
      "text/plain": [
       "VotingClassifier(estimators=[('RandomForest',\n",
       "                              RandomForestClassifier(class_weight='balanced',\n",
       "                                                     max_features='log2')),\n",
       "                             ('Bagging',\n",
       "                              BaggingClassifier(base_estimator=DecisionTreeClassifier(class_weight='balanced'),\n",
       "                                                n_estimators=70)),\n",
       "                             ('Cat',\n",
       "                              <catboost.core.CatBoostClassifier object at 0x0000017D6ED65520>)],\n",
       "                 voting='soft')"
      ]
     },
     "execution_count": 86,
     "metadata": {},
     "output_type": "execute_result"
    }
   ],
   "source": [
    "scaler = StandardScaler()\n",
    "X = scaler.fit_transform(X)\n",
    "ensemble.fit(X, y)"
   ]
  },
  {
   "cell_type": "code",
   "execution_count": 87,
   "metadata": {},
   "outputs": [],
   "source": [
    "import pickle\n",
    "pickle.dump(ensemble, open('Coursework_ensemble', 'wb'))"
   ]
  },
  {
   "cell_type": "code",
   "execution_count": null,
   "metadata": {},
   "outputs": [],
   "source": []
  }
 ],
 "metadata": {
  "kernelspec": {
   "display_name": "Python 3",
   "language": "python",
   "name": "python3"
  },
  "language_info": {
   "codemirror_mode": {
    "name": "ipython",
    "version": 3
   },
   "file_extension": ".py",
   "mimetype": "text/x-python",
   "name": "python",
   "nbconvert_exporter": "python",
   "pygments_lexer": "ipython3",
   "version": "3.8.5"
  }
 },
 "nbformat": 4,
 "nbformat_minor": 2
}
